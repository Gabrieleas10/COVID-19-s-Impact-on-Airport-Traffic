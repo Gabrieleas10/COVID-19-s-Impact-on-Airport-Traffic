{
 "metadata": {
  "language_info": {
   "codemirror_mode": {
    "name": "ipython",
    "version": 3
   },
   "file_extension": ".py",
   "mimetype": "text/x-python",
   "name": "python",
   "nbconvert_exporter": "python",
   "pygments_lexer": "ipython3",
   "version": "3.7.8-final"
  },
  "orig_nbformat": 2,
  "kernelspec": {
   "name": "python3",
   "display_name": "Python 3.7.8 64-bit",
   "metadata": {
    "interpreter": {
     "hash": "57baa5815c940fdaff4d14510622de9616cae602444507ba5d0b6727c008cbd6"
    }
   }
  }
 },
 "nbformat": 4,
 "nbformat_minor": 2,
 "cells": [
  {
   "source": [
    "# Covis-19 Impact on Airport Traffic\n",
    "\n",
    "# Kaggle's Dataset\n",
    "\n",
    "---------------------------------------------------------------------\n",
    "### installing libs"
   ],
   "cell_type": "markdown",
   "metadata": {}
  },
  {
   "cell_type": "code",
   "execution_count": null,
   "metadata": {},
   "outputs": [],
   "source": [
    "!pip install plotly"
   ]
  },
  {
   "cell_type": "code",
   "execution_count": null,
   "metadata": {},
   "outputs": [],
   "source": [
    "import pandas as pd\n",
    "import seaborn as sns\n",
    "import matplotlib.pyplot as plt\n",
    "import plotly.express as px"
   ]
  },
  {
   "cell_type": "code",
   "execution_count": null,
   "metadata": {},
   "outputs": [],
   "source": [
    "df = pd.read_csv('covid_impact_on_airport_traffic.csv' ,engine='python')"
   ]
  },
  {
   "cell_type": "code",
   "execution_count": null,
   "metadata": {},
   "outputs": [],
   "source": [
    "df.head()"
   ]
  },
  {
   "cell_type": "code",
   "execution_count": null,
   "metadata": {},
   "outputs": [],
   "source": [
    "df.info()"
   ]
  },
  {
   "cell_type": "code",
   "execution_count": null,
   "metadata": {},
   "outputs": [],
   "source": [
    "df.describe()"
   ]
  },
  {
   "cell_type": "code",
   "execution_count": null,
   "metadata": {},
   "outputs": [],
   "source": [
    "print('Maximum Impact: ', df['PercentOfBaseline'].min() , '%')\n",
    "print('Mean Impact: ', round(df['PercentOfBaseline'].mean()) , '%')\n",
    "print('Minimum Impact: ', df['PercentOfBaseline'].max() , '%')"
   ]
  },
  {
   "cell_type": "code",
   "execution_count": null,
   "metadata": {},
   "outputs": [],
   "source": [
    "print(df['City'].unique())\n",
    "print('Unique Cities: ',len(df['City'].unique()))"
   ]
  },
  {
   "cell_type": "code",
   "execution_count": null,
   "metadata": {},
   "outputs": [],
   "source": [
    "print(df['AirportName'].unique())\n",
    "print('Unique Airports: ',len(df['AirportName'].unique()))"
   ]
  },
  {
   "cell_type": "code",
   "execution_count": null,
   "metadata": {},
   "outputs": [],
   "source": [
    "print(df['State'].unique())\n",
    "print('Unique States: ',len(df['State'].unique()))"
   ]
  },
  {
   "cell_type": "code",
   "execution_count": null,
   "metadata": {},
   "outputs": [],
   "source": [
    "print(df['Country'].unique())\n",
    "print('Unique Countries: ',len(df['Country'].unique()))"
   ]
  },
  {
   "cell_type": "code",
   "execution_count": null,
   "metadata": {},
   "outputs": [],
   "source": [
    "df['lat'] = df['Centroid'].apply(lambda x: x[6: x.find(\" \")] )\n",
    "df['lon'] = df['Centroid'].apply(lambda x: x[x.find(\" \") : x.find(\")\")] )"
   ]
  },
  {
   "cell_type": "code",
   "execution_count": null,
   "metadata": {},
   "outputs": [],
   "source": [
    "fig = px.scatter_geo(df,\n",
    "                    lat = 'lon',\n",
    "                    lon = 'lat',\n",
    "                    hover_name = 'AirportName',\n",
    "                    color = 'PercentOfBaseline',\n",
    "                    title = 'Covid-19 Impact on Airports Traffic',      \n",
    "                    projection = 'hammer')\n",
    "fig.show()"
   ]
  }
 ]
}