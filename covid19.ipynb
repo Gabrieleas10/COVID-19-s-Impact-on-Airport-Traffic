{
 "metadata": {
  "language_info": {
   "codemirror_mode": {
    "name": "ipython",
    "version": 3
   },
   "file_extension": ".py",
   "mimetype": "text/x-python",
   "name": "python",
   "nbconvert_exporter": "python",
   "pygments_lexer": "ipython3",
   "version": "3.8.5-final"
  },
  "orig_nbformat": 2,
  "kernelspec": {
   "name": "python3",
   "display_name": "Python 3.8.5 32-bit",
   "metadata": {
    "interpreter": {
     "hash": "1a0aef5bc7ca9123676bdf3ec95dad4f6d93924f8ab55cb688f2ea9759e5da3f"
    }
   }
  }
 },
 "nbformat": 4,
 "nbformat_minor": 2,
 "cells": [
  {
   "source": [
    "# Covis-19 Impact on Airport Traffic\n",
    "\n",
    "# Kaggle's Dataset\n",
    "\n",
    "---------------------------------------------------------------------\n",
    "### installing libs"
   ],
   "cell_type": "markdown",
   "metadata": {}
  },
  {
   "cell_type": "code",
   "execution_count": 20,
   "metadata": {},
   "outputs": [
    {
     "output_type": "stream",
     "name": "stdout",
     "text": [
      "Requirement already satisfied: plotly in c:\\users\\gabriel\\appdata\\local\\programs\\python\\python38-32\\lib\\site-packages (4.14.1)\n",
      "Requirement already satisfied: six in c:\\users\\gabriel\\appdata\\local\\programs\\python\\python38-32\\lib\\site-packages (from plotly) (1.15.0)\n",
      "Requirement already satisfied: retrying>=1.3.3 in c:\\users\\gabriel\\appdata\\local\\programs\\python\\python38-32\\lib\\site-packages (from plotly) (1.3.3)\n",
      "WARNING: You are using pip version 20.2.4; however, version 20.3.1 is available.\n",
      "You should consider upgrading via the 'c:\\users\\gabriel\\appdata\\local\\programs\\python\\python38-32\\python.exe -m pip install --upgrade pip' command.\n"
     ]
    }
   ],
   "source": [
    "!pip install plotly"
   ]
  },
  {
   "cell_type": "code",
   "execution_count": 22,
   "metadata": {},
   "outputs": [
    {
     "output_type": "error",
     "ename": "ModuleNotFoundError",
     "evalue": "No module named 'pandas'",
     "traceback": [
      "\u001b[1;31m---------------------------------------------------------------------------\u001b[0m",
      "\u001b[1;31mModuleNotFoundError\u001b[0m                       Traceback (most recent call last)",
      "\u001b[1;32m<ipython-input-22-fadd46b346ce>\u001b[0m in \u001b[0;36m<module>\u001b[1;34m\u001b[0m\n\u001b[1;32m----> 1\u001b[1;33m \u001b[1;32mimport\u001b[0m \u001b[0mpandas\u001b[0m \u001b[1;32mas\u001b[0m \u001b[0mpd\u001b[0m\u001b[1;33m\u001b[0m\u001b[1;33m\u001b[0m\u001b[0m\n\u001b[0m\u001b[0;32m      2\u001b[0m \u001b[1;32mimport\u001b[0m \u001b[0mseaborn\u001b[0m \u001b[1;32mas\u001b[0m \u001b[0msns\u001b[0m\u001b[1;33m\u001b[0m\u001b[1;33m\u001b[0m\u001b[0m\n\u001b[0;32m      3\u001b[0m \u001b[1;32mimport\u001b[0m \u001b[0mmatplotlib\u001b[0m\u001b[1;33m.\u001b[0m\u001b[0mpyplot\u001b[0m \u001b[1;32mas\u001b[0m \u001b[0mplt\u001b[0m\u001b[1;33m\u001b[0m\u001b[1;33m\u001b[0m\u001b[0m\n\u001b[0;32m      4\u001b[0m \u001b[1;32mimport\u001b[0m \u001b[0mplotly\u001b[0m\u001b[1;33m.\u001b[0m\u001b[0mexpress\u001b[0m \u001b[1;32mas\u001b[0m \u001b[0mpx\u001b[0m\u001b[1;33m\u001b[0m\u001b[1;33m\u001b[0m\u001b[0m\n",
      "\u001b[1;31mModuleNotFoundError\u001b[0m: No module named 'pandas'"
     ]
    }
   ],
   "source": [
    "import pandas as pd\n",
    "import seaborn as sns\n",
    "import matplotlib.pyplot as plt\n",
    "import plotly.express as px"
   ]
  },
  {
   "cell_type": "code",
   "execution_count": 3,
   "metadata": {},
   "outputs": [],
   "source": [
    "df = pd.read_csv('covid_impact_on_airport_traffic.csv' ,engine='python')"
   ]
  },
  {
   "cell_type": "code",
   "execution_count": 4,
   "metadata": {},
   "outputs": [
    {
     "output_type": "execute_result",
     "data": {
      "text/plain": [
       "  AggregationMethod        Date  Version      AirportName  PercentOfBaseline  \\\n",
       "0             Daily  2020-07-05      1.0  Kingsford Smith                 52   \n",
       "1             Daily  2020-05-28      1.0  Kingsford Smith                 61   \n",
       "2             Daily  2020-05-07      1.0  Kingsford Smith                 62   \n",
       "3             Daily  2020-06-24      1.0  Kingsford Smith                 58   \n",
       "4             Daily  2020-08-05      1.0  Kingsford Smith                 20   \n",
       "\n",
       "                                    Centroid    City            State  \\\n",
       "0  POINT(151.180087713813 -33.9459774986125)  Sydney  New South Wales   \n",
       "1  POINT(151.180087713813 -33.9459774986125)  Sydney  New South Wales   \n",
       "2  POINT(151.180087713813 -33.9459774986125)  Sydney  New South Wales   \n",
       "3  POINT(151.180087713813 -33.9459774986125)  Sydney  New South Wales   \n",
       "4  POINT(151.180087713813 -33.9459774986125)  Sydney  New South Wales   \n",
       "\n",
       "  ISO_3166_2    Country                                          Geography  \n",
       "0         AU  Australia  POLYGON((151.164354085922 -33.9301772341877, 1...  \n",
       "1         AU  Australia  POLYGON((151.164354085922 -33.9301772341877, 1...  \n",
       "2         AU  Australia  POLYGON((151.164354085922 -33.9301772341877, 1...  \n",
       "3         AU  Australia  POLYGON((151.164354085922 -33.9301772341877, 1...  \n",
       "4         AU  Australia  POLYGON((151.164354085922 -33.9301772341877, 1...  "
      ],
      "text/html": "<div>\n<style scoped>\n    .dataframe tbody tr th:only-of-type {\n        vertical-align: middle;\n    }\n\n    .dataframe tbody tr th {\n        vertical-align: top;\n    }\n\n    .dataframe thead th {\n        text-align: right;\n    }\n</style>\n<table border=\"1\" class=\"dataframe\">\n  <thead>\n    <tr style=\"text-align: right;\">\n      <th></th>\n      <th>AggregationMethod</th>\n      <th>Date</th>\n      <th>Version</th>\n      <th>AirportName</th>\n      <th>PercentOfBaseline</th>\n      <th>Centroid</th>\n      <th>City</th>\n      <th>State</th>\n      <th>ISO_3166_2</th>\n      <th>Country</th>\n      <th>Geography</th>\n    </tr>\n  </thead>\n  <tbody>\n    <tr>\n      <th>0</th>\n      <td>Daily</td>\n      <td>2020-07-05</td>\n      <td>1.0</td>\n      <td>Kingsford Smith</td>\n      <td>52</td>\n      <td>POINT(151.180087713813 -33.9459774986125)</td>\n      <td>Sydney</td>\n      <td>New South Wales</td>\n      <td>AU</td>\n      <td>Australia</td>\n      <td>POLYGON((151.164354085922 -33.9301772341877, 1...</td>\n    </tr>\n    <tr>\n      <th>1</th>\n      <td>Daily</td>\n      <td>2020-05-28</td>\n      <td>1.0</td>\n      <td>Kingsford Smith</td>\n      <td>61</td>\n      <td>POINT(151.180087713813 -33.9459774986125)</td>\n      <td>Sydney</td>\n      <td>New South Wales</td>\n      <td>AU</td>\n      <td>Australia</td>\n      <td>POLYGON((151.164354085922 -33.9301772341877, 1...</td>\n    </tr>\n    <tr>\n      <th>2</th>\n      <td>Daily</td>\n      <td>2020-05-07</td>\n      <td>1.0</td>\n      <td>Kingsford Smith</td>\n      <td>62</td>\n      <td>POINT(151.180087713813 -33.9459774986125)</td>\n      <td>Sydney</td>\n      <td>New South Wales</td>\n      <td>AU</td>\n      <td>Australia</td>\n      <td>POLYGON((151.164354085922 -33.9301772341877, 1...</td>\n    </tr>\n    <tr>\n      <th>3</th>\n      <td>Daily</td>\n      <td>2020-06-24</td>\n      <td>1.0</td>\n      <td>Kingsford Smith</td>\n      <td>58</td>\n      <td>POINT(151.180087713813 -33.9459774986125)</td>\n      <td>Sydney</td>\n      <td>New South Wales</td>\n      <td>AU</td>\n      <td>Australia</td>\n      <td>POLYGON((151.164354085922 -33.9301772341877, 1...</td>\n    </tr>\n    <tr>\n      <th>4</th>\n      <td>Daily</td>\n      <td>2020-08-05</td>\n      <td>1.0</td>\n      <td>Kingsford Smith</td>\n      <td>20</td>\n      <td>POINT(151.180087713813 -33.9459774986125)</td>\n      <td>Sydney</td>\n      <td>New South Wales</td>\n      <td>AU</td>\n      <td>Australia</td>\n      <td>POLYGON((151.164354085922 -33.9301772341877, 1...</td>\n    </tr>\n  </tbody>\n</table>\n</div>"
     },
     "metadata": {},
     "execution_count": 4
    }
   ],
   "source": [
    "df.head()"
   ]
  },
  {
   "cell_type": "code",
   "execution_count": 5,
   "metadata": {},
   "outputs": [
    {
     "output_type": "stream",
     "name": "stdout",
     "text": [
      "<class 'pandas.core.frame.DataFrame'>\nRangeIndex: 5936 entries, 0 to 5935\nData columns (total 11 columns):\n #   Column             Non-Null Count  Dtype  \n---  ------             --------------  -----  \n 0   AggregationMethod  5936 non-null   object \n 1   Date               5936 non-null   object \n 2   Version            5936 non-null   float64\n 3   AirportName        5936 non-null   object \n 4   PercentOfBaseline  5936 non-null   int64  \n 5   Centroid           5936 non-null   object \n 6   City               5936 non-null   object \n 7   State              5936 non-null   object \n 8   ISO_3166_2         5936 non-null   object \n 9   Country            5936 non-null   object \n 10  Geography          5936 non-null   object \ndtypes: float64(1), int64(1), object(9)\nmemory usage: 301.5+ KB\n"
     ]
    }
   ],
   "source": [
    "df.info()"
   ]
  },
  {
   "cell_type": "code",
   "execution_count": 6,
   "metadata": {},
   "outputs": [
    {
     "output_type": "execute_result",
     "data": {
      "text/plain": [
       "       Version  PercentOfBaseline\n",
       "count   5936.0        5936.000000\n",
       "mean       1.0          65.581705\n",
       "std        0.0          21.985070\n",
       "min        1.0           0.000000\n",
       "25%        1.0          52.000000\n",
       "50%        1.0          66.000000\n",
       "75%        1.0          82.000000\n",
       "max        1.0         100.000000"
      ],
      "text/html": "<div>\n<style scoped>\n    .dataframe tbody tr th:only-of-type {\n        vertical-align: middle;\n    }\n\n    .dataframe tbody tr th {\n        vertical-align: top;\n    }\n\n    .dataframe thead th {\n        text-align: right;\n    }\n</style>\n<table border=\"1\" class=\"dataframe\">\n  <thead>\n    <tr style=\"text-align: right;\">\n      <th></th>\n      <th>Version</th>\n      <th>PercentOfBaseline</th>\n    </tr>\n  </thead>\n  <tbody>\n    <tr>\n      <th>count</th>\n      <td>5936.0</td>\n      <td>5936.000000</td>\n    </tr>\n    <tr>\n      <th>mean</th>\n      <td>1.0</td>\n      <td>65.581705</td>\n    </tr>\n    <tr>\n      <th>std</th>\n      <td>0.0</td>\n      <td>21.985070</td>\n    </tr>\n    <tr>\n      <th>min</th>\n      <td>1.0</td>\n      <td>0.000000</td>\n    </tr>\n    <tr>\n      <th>25%</th>\n      <td>1.0</td>\n      <td>52.000000</td>\n    </tr>\n    <tr>\n      <th>50%</th>\n      <td>1.0</td>\n      <td>66.000000</td>\n    </tr>\n    <tr>\n      <th>75%</th>\n      <td>1.0</td>\n      <td>82.000000</td>\n    </tr>\n    <tr>\n      <th>max</th>\n      <td>1.0</td>\n      <td>100.000000</td>\n    </tr>\n  </tbody>\n</table>\n</div>"
     },
     "metadata": {},
     "execution_count": 6
    }
   ],
   "source": [
    "df.describe()"
   ]
  },
  {
   "cell_type": "code",
   "execution_count": 7,
   "metadata": {},
   "outputs": [
    {
     "output_type": "stream",
     "name": "stdout",
     "text": [
      "Maximum Impact:  0 %\nMean Impact:  66 %\nMinimum Impact:  100 %\n"
     ]
    }
   ],
   "source": [
    "print('Maximum Impact: ', df['PercentOfBaseline'].min() , '%')\n",
    "print('Mean Impact: ', round(df['PercentOfBaseline'].mean()) , '%')\n",
    "print('Minimum Impact: ', df['PercentOfBaseline'].max() , '%')"
   ]
  },
  {
   "cell_type": "code",
   "execution_count": 8,
   "metadata": {},
   "outputs": [
    {
     "output_type": "stream",
     "name": "stdout",
     "text": [
      "['Sydney' 'Santiago' 'Calgary' 'Leduc County' 'Richmond' 'Winnipeg'\n 'Halifax' 'Mississauga' 'Hamilton' 'Mirabel' 'Dorval' 'Los Angeles'\n 'South San Francisco' 'Denver' 'Miami Springs' 'College Park'\n 'Urban Honolulu' 'Chicago' 'Boston' 'Romulus' 'Charlotte' 'Newark'\n 'Paradise' 'New York' 'Grapevine' 'Floris' 'SeaTac']\nUnique Cities:  27\n"
     ]
    }
   ],
   "source": [
    "print(df['City'].unique())\n",
    "print('Unique Cities: ',len(df['City'].unique()))"
   ]
  },
  {
   "cell_type": "code",
   "execution_count": 9,
   "metadata": {},
   "outputs": [
    {
     "output_type": "stream",
     "name": "stdout",
     "text": [
      "['Kingsford Smith' 'Santiago International Airport'\n 'Calgary International' 'Edmonton International'\n 'Vancouver International' 'Winnipeg International'\n 'Halifax International' 'Toronto Pearson' 'Hamilton International'\n 'Montreal Mirabel' 'Montreal Trudeau' 'Los Angeles International'\n 'San Francisco International' 'Denver International'\n 'Miami International ' 'Hartsfield-Jackson Atlanta International '\n 'Daniel K. Inouye International ' 'Chicago OHare International'\n 'Boston Logan International ' 'Detroit Metropolitan Wayne County '\n 'Charlotte Douglas International' 'Newark Liberty International '\n 'McCarran International' 'LaGuardia' 'John F. Kennedy International'\n 'Dallas/Fort Worth International ' 'Washington Dulles International '\n 'Seattle-Tacoma International ']\nUnique Airports:  28\n"
     ]
    }
   ],
   "source": [
    "print(df['AirportName'].unique())\n",
    "print('Unique Airports: ',len(df['AirportName'].unique()))"
   ]
  },
  {
   "cell_type": "code",
   "execution_count": 10,
   "metadata": {},
   "outputs": [
    {
     "output_type": "stream",
     "name": "stdout",
     "text": [
      "['New South Wales' 'Santiago Province' 'Alberta' 'British Columbia'\n 'Manitoba' 'Nova Scotia' 'Ontario' 'Quebec' 'California' 'Colorado'\n 'Florida' 'Georgia' 'Hawaii' 'Illinois' 'Massachusetts' 'Michigan'\n 'North Carolina' 'New Jersey' 'Nevada' 'New York' 'Texas' 'Virginia'\n 'Washington']\nUnique States:  23\n"
     ]
    }
   ],
   "source": [
    "print(df['State'].unique())\n",
    "print('Unique States: ',len(df['State'].unique()))"
   ]
  },
  {
   "cell_type": "code",
   "execution_count": 11,
   "metadata": {},
   "outputs": [
    {
     "output_type": "stream",
     "name": "stdout",
     "text": [
      "['Australia' 'Chile' 'Canada' 'United States of America (the)']\nUnique Countries:  4\n"
     ]
    }
   ],
   "source": [
    "print(df['Country'].unique())\n",
    "print('Unique Countries: ',len(df['Country'].unique()))"
   ]
  },
  {
   "cell_type": "code",
   "execution_count": 20,
   "metadata": {},
   "outputs": [],
   "source": [
    "df['lat'] = df['Centroid'].apply(lambda x: x[6: x.find(\" \")] )\n",
    "df['lon'] = df['Centroid'].apply(lambda x: x[x.find(\" \") : x.find(\")\")] )"
   ]
  },
  {
   "cell_type": "code",
   "execution_count": 1,
   "metadata": {},
   "outputs": [
    {
     "output_type": "error",
     "ename": "NameError",
     "evalue": "name 'px' is not defined",
     "traceback": [
      "\u001b[1;31m---------------------------------------------------------------------------\u001b[0m",
      "\u001b[1;31mNameError\u001b[0m                                 Traceback (most recent call last)",
      "\u001b[1;32m<ipython-input-1-03b66e6e3a79>\u001b[0m in \u001b[0;36m<module>\u001b[1;34m\u001b[0m\n\u001b[1;32m----> 1\u001b[1;33m fig = px.scatter_geo(df,\n\u001b[0m\u001b[0;32m      2\u001b[0m                     \u001b[0mlat\u001b[0m \u001b[1;33m=\u001b[0m \u001b[1;34m'lon'\u001b[0m\u001b[1;33m,\u001b[0m\u001b[1;33m\u001b[0m\u001b[1;33m\u001b[0m\u001b[0m\n\u001b[0;32m      3\u001b[0m                     \u001b[0mlon\u001b[0m \u001b[1;33m=\u001b[0m \u001b[1;34m'lat'\u001b[0m\u001b[1;33m,\u001b[0m\u001b[1;33m\u001b[0m\u001b[1;33m\u001b[0m\u001b[0m\n\u001b[0;32m      4\u001b[0m                     \u001b[0mhover_name\u001b[0m \u001b[1;33m=\u001b[0m \u001b[1;34m'AirportName'\u001b[0m\u001b[1;33m,\u001b[0m\u001b[1;33m\u001b[0m\u001b[1;33m\u001b[0m\u001b[0m\n\u001b[0;32m      5\u001b[0m                     \u001b[0mcolor\u001b[0m \u001b[1;33m=\u001b[0m \u001b[1;34m'PercentOfBaseline'\u001b[0m\u001b[1;33m,\u001b[0m\u001b[1;33m\u001b[0m\u001b[1;33m\u001b[0m\u001b[0m\n",
      "\u001b[1;31mNameError\u001b[0m: name 'px' is not defined"
     ]
    }
   ],
   "source": [
    "fig = px.scatter_geo(df,\n",
    "                    lat = 'lon',\n",
    "                    lon = 'lat',\n",
    "                    hover_name = 'AirportName',\n",
    "                    color = 'PercentOfBaseline',\n",
    "                    title = 'Covid-19 Impact on Airports Traffic',      \n",
    "                    projection = 'hammer')\n",
    "fig.show()"
   ]
  },
  {
   "cell_type": "code",
   "execution_count": null,
   "metadata": {},
   "outputs": [],
   "source": []
  }
 ]
}