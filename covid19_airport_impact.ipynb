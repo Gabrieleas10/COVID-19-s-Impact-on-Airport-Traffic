{
 "metadata": {
  "language_info": {
   "codemirror_mode": {
    "name": "ipython",
    "version": 3
   },
   "file_extension": ".py",
   "mimetype": "text/x-python",
   "name": "python",
   "nbconvert_exporter": "python",
   "pygments_lexer": "ipython3",
   "version": "3.8.3-final"
  },
  "orig_nbformat": 2,
  "kernelspec": {
   "name": "python3",
   "display_name": "Python 3"
  }
 },
 "nbformat": 4,
 "nbformat_minor": 2,
 "cells": [
  {
   "cell_type": "code",
   "execution_count": 26,
   "metadata": {},
   "outputs": [
    {
     "output_type": "error",
     "ename": "ModuleNotFoundError",
     "evalue": "No module named 'plotly'",
     "traceback": [
      "\u001b[1;31m---------------------------------------------------------------------------\u001b[0m",
      "\u001b[1;31mModuleNotFoundError\u001b[0m                       Traceback (most recent call last)",
      "\u001b[1;32m<ipython-input-26-874c6b3cc684>\u001b[0m in \u001b[0;36m<module>\u001b[1;34m\u001b[0m\n\u001b[0;32m      2\u001b[0m \u001b[1;32mimport\u001b[0m \u001b[0mseaborn\u001b[0m \u001b[1;32mas\u001b[0m \u001b[0msns\u001b[0m\u001b[1;33m\u001b[0m\u001b[1;33m\u001b[0m\u001b[0m\n\u001b[0;32m      3\u001b[0m \u001b[1;32mimport\u001b[0m \u001b[0mmatplotlib\u001b[0m\u001b[1;33m.\u001b[0m\u001b[0mpyplot\u001b[0m \u001b[1;32mas\u001b[0m \u001b[0mplt\u001b[0m\u001b[1;33m\u001b[0m\u001b[1;33m\u001b[0m\u001b[0m\n\u001b[1;32m----> 4\u001b[1;33m \u001b[1;32mimport\u001b[0m \u001b[0mplotly\u001b[0m\u001b[1;33m.\u001b[0m\u001b[0mexpress\u001b[0m \u001b[1;32mas\u001b[0m \u001b[0mpx\u001b[0m\u001b[1;33m\u001b[0m\u001b[1;33m\u001b[0m\u001b[0m\n\u001b[0m\u001b[0;32m      5\u001b[0m \u001b[1;32mimport\u001b[0m \u001b[0mgeopandas\u001b[0m \u001b[1;32mas\u001b[0m \u001b[0mgpd\u001b[0m\u001b[1;33m\u001b[0m\u001b[1;33m\u001b[0m\u001b[0m\n",
      "\u001b[1;31mModuleNotFoundError\u001b[0m: No module named 'plotly'"
     ]
    }
   ],
   "source": [
    "import pandas as pd\n",
    "import seaborn as sns\n",
    "import matplotlib.pyplot as plt\n",
    "import plotly.express as px\n",
    "import geopandas as gpd"
   ]
  },
  {
   "cell_type": "code",
   "execution_count": 6,
   "metadata": {},
   "outputs": [],
   "source": [
    "df = pd.read_csv('covid_impact_on_airport_traffic.csv' ,engine='python')"
   ]
  },
  {
   "cell_type": "code",
   "execution_count": 7,
   "metadata": {},
   "outputs": [
    {
     "output_type": "execute_result",
     "data": {
      "text/plain": [
       "  AggregationMethod        Date  Version      AirportName  PercentOfBaseline  \\\n",
       "0             Daily  2020-07-05      1.0  Kingsford Smith                 52   \n",
       "1             Daily  2020-05-28      1.0  Kingsford Smith                 61   \n",
       "2             Daily  2020-05-07      1.0  Kingsford Smith                 62   \n",
       "3             Daily  2020-06-24      1.0  Kingsford Smith                 58   \n",
       "4             Daily  2020-08-05      1.0  Kingsford Smith                 20   \n",
       "\n",
       "                                    Centroid    City            State  \\\n",
       "0  POINT(151.180087713813 -33.9459774986125)  Sydney  New South Wales   \n",
       "1  POINT(151.180087713813 -33.9459774986125)  Sydney  New South Wales   \n",
       "2  POINT(151.180087713813 -33.9459774986125)  Sydney  New South Wales   \n",
       "3  POINT(151.180087713813 -33.9459774986125)  Sydney  New South Wales   \n",
       "4  POINT(151.180087713813 -33.9459774986125)  Sydney  New South Wales   \n",
       "\n",
       "  ISO_3166_2    Country                                          Geography  \n",
       "0         AU  Australia  POLYGON((151.164354085922 -33.9301772341877, 1...  \n",
       "1         AU  Australia  POLYGON((151.164354085922 -33.9301772341877, 1...  \n",
       "2         AU  Australia  POLYGON((151.164354085922 -33.9301772341877, 1...  \n",
       "3         AU  Australia  POLYGON((151.164354085922 -33.9301772341877, 1...  \n",
       "4         AU  Australia  POLYGON((151.164354085922 -33.9301772341877, 1...  "
      ],
      "text/html": "<div>\n<style scoped>\n    .dataframe tbody tr th:only-of-type {\n        vertical-align: middle;\n    }\n\n    .dataframe tbody tr th {\n        vertical-align: top;\n    }\n\n    .dataframe thead th {\n        text-align: right;\n    }\n</style>\n<table border=\"1\" class=\"dataframe\">\n  <thead>\n    <tr style=\"text-align: right;\">\n      <th></th>\n      <th>AggregationMethod</th>\n      <th>Date</th>\n      <th>Version</th>\n      <th>AirportName</th>\n      <th>PercentOfBaseline</th>\n      <th>Centroid</th>\n      <th>City</th>\n      <th>State</th>\n      <th>ISO_3166_2</th>\n      <th>Country</th>\n      <th>Geography</th>\n    </tr>\n  </thead>\n  <tbody>\n    <tr>\n      <th>0</th>\n      <td>Daily</td>\n      <td>2020-07-05</td>\n      <td>1.0</td>\n      <td>Kingsford Smith</td>\n      <td>52</td>\n      <td>POINT(151.180087713813 -33.9459774986125)</td>\n      <td>Sydney</td>\n      <td>New South Wales</td>\n      <td>AU</td>\n      <td>Australia</td>\n      <td>POLYGON((151.164354085922 -33.9301772341877, 1...</td>\n    </tr>\n    <tr>\n      <th>1</th>\n      <td>Daily</td>\n      <td>2020-05-28</td>\n      <td>1.0</td>\n      <td>Kingsford Smith</td>\n      <td>61</td>\n      <td>POINT(151.180087713813 -33.9459774986125)</td>\n      <td>Sydney</td>\n      <td>New South Wales</td>\n      <td>AU</td>\n      <td>Australia</td>\n      <td>POLYGON((151.164354085922 -33.9301772341877, 1...</td>\n    </tr>\n    <tr>\n      <th>2</th>\n      <td>Daily</td>\n      <td>2020-05-07</td>\n      <td>1.0</td>\n      <td>Kingsford Smith</td>\n      <td>62</td>\n      <td>POINT(151.180087713813 -33.9459774986125)</td>\n      <td>Sydney</td>\n      <td>New South Wales</td>\n      <td>AU</td>\n      <td>Australia</td>\n      <td>POLYGON((151.164354085922 -33.9301772341877, 1...</td>\n    </tr>\n    <tr>\n      <th>3</th>\n      <td>Daily</td>\n      <td>2020-06-24</td>\n      <td>1.0</td>\n      <td>Kingsford Smith</td>\n      <td>58</td>\n      <td>POINT(151.180087713813 -33.9459774986125)</td>\n      <td>Sydney</td>\n      <td>New South Wales</td>\n      <td>AU</td>\n      <td>Australia</td>\n      <td>POLYGON((151.164354085922 -33.9301772341877, 1...</td>\n    </tr>\n    <tr>\n      <th>4</th>\n      <td>Daily</td>\n      <td>2020-08-05</td>\n      <td>1.0</td>\n      <td>Kingsford Smith</td>\n      <td>20</td>\n      <td>POINT(151.180087713813 -33.9459774986125)</td>\n      <td>Sydney</td>\n      <td>New South Wales</td>\n      <td>AU</td>\n      <td>Australia</td>\n      <td>POLYGON((151.164354085922 -33.9301772341877, 1...</td>\n    </tr>\n  </tbody>\n</table>\n</div>"
     },
     "metadata": {},
     "execution_count": 7
    }
   ],
   "source": [
    "df.head()"
   ]
  },
  {
   "cell_type": "code",
   "execution_count": 8,
   "metadata": {},
   "outputs": [
    {
     "output_type": "stream",
     "name": "stdout",
     "text": [
      "<class 'pandas.core.frame.DataFrame'>\nRangeIndex: 5936 entries, 0 to 5935\nData columns (total 11 columns):\n #   Column             Non-Null Count  Dtype  \n---  ------             --------------  -----  \n 0   AggregationMethod  5936 non-null   object \n 1   Date               5936 non-null   object \n 2   Version            5936 non-null   float64\n 3   AirportName        5936 non-null   object \n 4   PercentOfBaseline  5936 non-null   int64  \n 5   Centroid           5936 non-null   object \n 6   City               5936 non-null   object \n 7   State              5936 non-null   object \n 8   ISO_3166_2         5936 non-null   object \n 9   Country            5936 non-null   object \n 10  Geography          5936 non-null   object \ndtypes: float64(1), int64(1), object(9)\nmemory usage: 510.2+ KB\n"
     ]
    }
   ],
   "source": [
    "df.info()"
   ]
  },
  {
   "cell_type": "code",
   "execution_count": 9,
   "metadata": {},
   "outputs": [
    {
     "output_type": "execute_result",
     "data": {
      "text/plain": [
       "       Version  PercentOfBaseline\n",
       "count   5936.0        5936.000000\n",
       "mean       1.0          65.581705\n",
       "std        0.0          21.985070\n",
       "min        1.0           0.000000\n",
       "25%        1.0          52.000000\n",
       "50%        1.0          66.000000\n",
       "75%        1.0          82.000000\n",
       "max        1.0         100.000000"
      ],
      "text/html": "<div>\n<style scoped>\n    .dataframe tbody tr th:only-of-type {\n        vertical-align: middle;\n    }\n\n    .dataframe tbody tr th {\n        vertical-align: top;\n    }\n\n    .dataframe thead th {\n        text-align: right;\n    }\n</style>\n<table border=\"1\" class=\"dataframe\">\n  <thead>\n    <tr style=\"text-align: right;\">\n      <th></th>\n      <th>Version</th>\n      <th>PercentOfBaseline</th>\n    </tr>\n  </thead>\n  <tbody>\n    <tr>\n      <th>count</th>\n      <td>5936.0</td>\n      <td>5936.000000</td>\n    </tr>\n    <tr>\n      <th>mean</th>\n      <td>1.0</td>\n      <td>65.581705</td>\n    </tr>\n    <tr>\n      <th>std</th>\n      <td>0.0</td>\n      <td>21.985070</td>\n    </tr>\n    <tr>\n      <th>min</th>\n      <td>1.0</td>\n      <td>0.000000</td>\n    </tr>\n    <tr>\n      <th>25%</th>\n      <td>1.0</td>\n      <td>52.000000</td>\n    </tr>\n    <tr>\n      <th>50%</th>\n      <td>1.0</td>\n      <td>66.000000</td>\n    </tr>\n    <tr>\n      <th>75%</th>\n      <td>1.0</td>\n      <td>82.000000</td>\n    </tr>\n    <tr>\n      <th>max</th>\n      <td>1.0</td>\n      <td>100.000000</td>\n    </tr>\n  </tbody>\n</table>\n</div>"
     },
     "metadata": {},
     "execution_count": 9
    }
   ],
   "source": [
    "df.describe()"
   ]
  },
  {
   "cell_type": "code",
   "execution_count": 23,
   "metadata": {},
   "outputs": [
    {
     "output_type": "stream",
     "name": "stdout",
     "text": [
      "Maximum Impact:  0 %\nMinimum Impact:  100 %\n"
     ]
    }
   ],
   "source": [
    "print('Maximum Impact: ', df['PercentOfBaseline'].min() , '%')\n",
    "print('Minimum Impact: ', df['PercentOfBaseline'].max() , '%')"
   ]
  },
  {
   "cell_type": "code",
   "execution_count": null,
   "metadata": {},
   "outputs": [],
   "source": []
  }
 ]
}